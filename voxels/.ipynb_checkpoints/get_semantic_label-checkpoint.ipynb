{
 "cells": [
  {
   "cell_type": "code",
   "execution_count": 21,
   "metadata": {},
   "outputs": [],
   "source": [
    "import open3d as o3d \n",
    "import numpy as np\n",
    "import matplotlib.pyplot as plt\n",
    "%matplotlib inline\n",
    "import os\n",
    "import struct\n",
    "import sys\n",
    "import pandas as pd\n",
    "\n",
    "from mpl_toolkits.mplot3d import Axes3D \n",
    "from matplotlib import cm\n",
    "from pyntcloud import PyntCloud"
   ]
  },
  {
   "cell_type": "code",
   "execution_count": 701,
   "metadata": {},
   "outputs": [],
   "source": [
    "labels = {(  0,  0,  0): 255,\n",
    "    (  0,  0,  0): 100,\n",
    "    (111, 74,  0): 255,\n",
    "    ( 81,  0, 81): 255,\n",
    "    (128, 64,128):   0,\n",
    "    (244, 35,232):   1,\n",
    "    (250,170,160): 255,\n",
    "    (230,150,140): 255,\n",
    "    ( 70, 70, 70):   2,\n",
    "    (102,102,156):   3,\n",
    "    (190,153,153):   4,\n",
    "    (180,165,180): 255,\n",
    "    (150,100,100): 255,\n",
    "    (150,120, 90): 255,\n",
    "    (153,153,153):   5,\n",
    "    (153,153,153): 255,\n",
    "    (250,170, 30):   6,\n",
    "    (220,220,  0):   7,\n",
    "    (107,142, 35):   8,\n",
    "    (152,251,152):   9,\n",
    "    ( 70,130,180):  10,\n",
    "    (220, 20, 60):  11,\n",
    "    (255,  0,  0):  12,\n",
    "    (  0,  0,142):  13,\n",
    "    (  0,  0, 70):  14,\n",
    "    (  0, 60,100):  15,\n",
    "    (  0,  0, 90): 255,\n",
    "    (  0,  0,110): 255,\n",
    "    (  0, 80,100):  16,\n",
    "    (  0,  0,230):  17,\n",
    "    (119, 11, 32):  18,\n",
    "    ( 64,128,128):   2,\n",
    "    (190,153,153):   4,\n",
    "    (150,120, 90): 255,\n",
    "    (153,153,153):   5,\n",
    "    (0,   64, 64): 255,\n",
    "    (0,  128,192): 255,\n",
    "    (128, 64,  0): 255,\n",
    "    (64,  64,128): 255,\n",
    "    (102,  0,  0): 255,\n",
    "    ( 51,  0, 51): 255,\n",
    "    ( 32, 32, 32): 255,\n",
    "         }\n",
    "\n",
    "labels_rewritten = {(  0,  0,  0): 11,\n",
    "    (111, 74,  0): 10,\n",
    "    ( 81,  0, 81): 10,\n",
    "    (128, 64,128):   0,\n",
    "    (244, 35,232):   1,\n",
    "    (250,170,160): 10,\n",
    "    (230,150,140): 10,\n",
    "    ( 70, 70, 70):   2,\n",
    "    (102,102,156):   3,\n",
    "    (190,153,153):   4,\n",
    "    (180,165,180): 10,\n",
    "    (150,100,100): 10,\n",
    "    (150,120, 90): 10,\n",
    "    (153,153,153):   5,\n",
    "    (153,153,153): 10,\n",
    "    (250,170, 30):   10,\n",
    "    (220,220,  0):   7,\n",
    "    (107,142, 35):   8,\n",
    "    (152,251,152):   9,\n",
    "    ( 70,130,180):  10,\n",
    "    (220, 20, 60):  100,\n",
    "    (255,  0,  0):  12,\n",
    "    (  0,  0,142):  6,\n",
    "    (  0,  0, 70):  14,\n",
    "    (  0, 60,100):  15,\n",
    "    (  0,  0, 90): 10,\n",
    "    (  0,  0,110): 10,\n",
    "    (  0, 80,100):  16,\n",
    "    (  0,  0,230):  17,\n",
    "    (119, 11, 32):  18,\n",
    "    ( 64,128,128):   2,\n",
    "    (190,153,153):   4,\n",
    "    (150,120, 90): 10,\n",
    "    (153,153,153):   5,\n",
    "    (0,   64, 64): 10,\n",
    "    (0,  128,192): 10,\n",
    "    (128, 64,  0): 10,\n",
    "    (64,  64,128): 10,\n",
    "    (102,  0,  0): 10,\n",
    "    ( 51,  0, 51): 10,\n",
    "    ( 32, 32, 32): 10,\n",
    "         }\n",
    "\n",
    "labels_1 = {\n",
    "       100:(0, 0, 0),\n",
    "       255:(0,   64, 64),\n",
    "       0:(128, 64,128),\n",
    "       1:(244, 35,232),\n",
    "       3:(102,102,156),\n",
    "       6:(250,170, 30),\n",
    "       7:(220,220,  0),\n",
    "       8:(107,142, 35),\n",
    "       9:(152,251,152),\n",
    "      10:( 70,130,180),\n",
    "      11:(220, 20, 60),\n",
    "      12:(255,  0,  0),\n",
    "      13:(  0,  0,142),\n",
    "      14:(  0,  0, 70),\n",
    "      15:(  0, 60,100),\n",
    "      16:(  0, 80,100),\n",
    "      17:(  0,  0,230),\n",
    "      18:(119, 11, 32),\n",
    "       2:(70,70,70),\n",
    "       4:(190,153,153),\n",
    "       5:(153,153,153),\n",
    "      -1:(  0,  0,142),}\n",
    "\n",
    "'''\n",
    "class 10 - semantic, 6 vehicle, 1-9 is the same, class 10: 255\n",
    "class 11 - (0, 0, 0) i.e empty\n",
    "'''\n",
    "labels_new = {\n",
    "       11:(0, 0, 0),\n",
    "       10:(0,   64, 64),\n",
    "       0:(128, 64,128),\n",
    "       1:(244, 35,232),\n",
    "       3:(102,102,156),\n",
    "       7:(220,220,  0),\n",
    "       8:(107,142, 35),\n",
    "       9:(152,251,152),\n",
    "      10:( 70,130,180),\n",
    "      6:(  0,  0,142),\n",
    "       2:(70,70,70),\n",
    "       4:(190,153,153),\n",
    "       5:(153,153,153),}"
   ]
  },
  {
   "cell_type": "code",
   "execution_count": 702,
   "metadata": {},
   "outputs": [],
   "source": [
    "input_folder = \"../../voxel_data/single/\"\n",
    "f = \"400_cropped.ply\"\n",
    "x, y, z = 64, 64, 16"
   ]
  },
  {
   "cell_type": "code",
   "execution_count": 703,
   "metadata": {},
   "outputs": [],
   "source": [
    "pcd = o3d.io.read_point_cloud(os.path.join(input_folder, f))\n",
    "pcd_colors = (np.asarray(pcd.colors)*255).astype(np.uint8)\n",
    "# downpcd = pcd.voxel_down_sample(voxel_size=0.4)\n",
    "# color = np.asarray(downpcd.colors)\n",
    "cloud = PyntCloud.from_instance(\"open3d\", pcd)\n",
    "voxelgrid_id = cloud.add_structure(\"voxelgrid\", n_x=x, n_y=y, n_z=z, regular_bounding_box=False)\n",
    "voxelgrid = cloud.structures[voxelgrid_id]\n",
    "\n",
    "# mapped_labels = []\n",
    "# for vec in voxelgrid.voxel_colors:\n",
    "#     if tuple(vec) in labels:\n",
    "#         mapped_labels.append(labels[tuple(vec)])\n",
    "#     else:   \n",
    "#         mapped_labels.append(255)\n",
    "        \n",
    "x_cords = voxelgrid.voxel_x\n",
    "y_cords = voxelgrid.voxel_y\n",
    "z_cords = voxelgrid.voxel_z\n",
    "# import pdb;pdb.set_trace()\n",
    "voxel = np.zeros((x, y, z)).astype(np.bool)\n",
    "color = np.zeros((x, y, z, 3))\n",
    "\n",
    "cnt = 0\n",
    "for x, y, z in zip(x_cords, y_cords, z_cords):\n",
    "    voxel[x][y][z] = True\n",
    "    color[x][y][z] = pcd_colors[cnt]\n",
    "    cnt+=1\n",
    "\n",
    "voxelgrid_id_128 = cloud.add_structure(\"voxelgrid\", n_x=128, n_y=128, n_z=16, regular_bounding_box=False)\n",
    "voxelgrid_128 = cloud.structures[voxelgrid_id_128]"
   ]
  },
  {
   "cell_type": "code",
   "execution_count": 704,
   "metadata": {},
   "outputs": [],
   "source": [
    "# np.unique(pcd_colors, axis=0), np.unique(voxelgrid.colors, axis=0).shape"
   ]
  },
  {
   "cell_type": "code",
   "execution_count": 705,
   "metadata": {},
   "outputs": [],
   "source": [
    "# pcd_colors[:10], x_cords[:10], y_cords[:10], z_cords[:10]"
   ]
  },
  {
   "cell_type": "code",
   "execution_count": 706,
   "metadata": {},
   "outputs": [
    {
     "name": "stdout",
     "output_type": "stream",
     "text": [
      "[[  0.   0.   0.]\n",
      " [  0.   0. 142.]\n",
      " [  0.  64.  64.]\n",
      " [  0. 128. 192.]\n",
      " [ 64. 128. 128.]\n",
      " [ 70.  70.  70.]\n",
      " [ 81.   0.  81.]\n",
      " [102. 102. 156.]\n",
      " [107. 142.  35.]\n",
      " [128.  64. 128.]\n",
      " [152. 251. 152.]\n",
      " [153. 153. 153.]\n",
      " [190. 153. 153.]\n",
      " [220. 220.   0.]\n",
      " [244.  35. 232.]\n",
      " [250. 170. 160.]]\n"
     ]
    },
    {
     "data": {
      "text/plain": [
       "array([[  0.,   0., 142.],\n",
       "       [  0.,  64.,  64.],\n",
       "       [  0., 128., 192.],\n",
       "       [ 64., 128., 128.],\n",
       "       [ 70.,  70.,  70.],\n",
       "       [ 81.,   0.,  81.],\n",
       "       [102., 102., 156.],\n",
       "       [107., 142.,  35.],\n",
       "       [128.,  64., 128.],\n",
       "       [152., 251., 152.],\n",
       "       [153., 153., 153.],\n",
       "       [190., 153., 153.],\n",
       "       [220., 220.,   0.],\n",
       "       [244.,  35., 232.],\n",
       "       [250., 170., 160.]])"
      ]
     },
     "execution_count": 706,
     "metadata": {},
     "output_type": "execute_result"
    }
   ],
   "source": [
    "rr = color.reshape(-1, 3)\n",
    "print(np.unique(rr, axis=0))\n",
    "color_feat = color[voxel] \n",
    "'''\n",
    "To plot using this, we need feat vectors that consist of points only where the voxel is not empty\n",
    "\n",
    "\n",
    "'''\n",
    "np.unique(color_feat, axis=0) # -1, 255, 255, 2, 2, 255, 3, 8, 0, 9, 5, 4, 7, 1, 255"
   ]
  },
  {
   "cell_type": "code",
   "execution_count": 707,
   "metadata": {},
   "outputs": [
    {
     "data": {
      "text/plain": [
       "array([[0., 0., 0.],\n",
       "       [0., 0., 0.],\n",
       "       [0., 0., 0.],\n",
       "       ...,\n",
       "       [0., 0., 0.],\n",
       "       [0., 0., 0.],\n",
       "       [0., 0., 0.]])"
      ]
     },
     "execution_count": 707,
     "metadata": {},
     "output_type": "execute_result"
    }
   ],
   "source": [
    "rr"
   ]
  },
  {
   "cell_type": "code",
   "execution_count": 708,
   "metadata": {},
   "outputs": [
    {
     "data": {
      "text/plain": [
       "array([[[11, 11, 11, ..., 11, 11, 11],\n",
       "        [11, 11, 11, ..., 11, 11, 11],\n",
       "        [11, 11, 11, ..., 11, 11, 11],\n",
       "        ...,\n",
       "        [11, 11, 11, ..., 11, 11, 11],\n",
       "        [11, 11, 11, ..., 11, 11, 11],\n",
       "        [11, 11, 11, ..., 11, 11, 11]],\n",
       "\n",
       "       [[11, 11, 11, ..., 11, 11, 11],\n",
       "        [11, 11, 11, ..., 11, 11, 11],\n",
       "        [11, 11, 11, ..., 11, 11, 11],\n",
       "        ...,\n",
       "        [11, 11, 11, ..., 11, 11, 11],\n",
       "        [11, 11, 11, ..., 11, 11, 11],\n",
       "        [11, 11, 11, ..., 11, 11, 11]],\n",
       "\n",
       "       [[11, 11, 11, ..., 11, 11, 11],\n",
       "        [11, 11, 11, ..., 11, 11, 11],\n",
       "        [11, 11, 11, ..., 11, 11, 11],\n",
       "        ...,\n",
       "        [11, 11, 11, ..., 11, 11, 11],\n",
       "        [11, 11, 11, ..., 11, 11, 11],\n",
       "        [11, 11, 11, ..., 11, 11, 11]],\n",
       "\n",
       "       ...,\n",
       "\n",
       "       [[11, 11, 11, ..., 11, 11, 11],\n",
       "        [11, 11, 11, ..., 11, 11, 11],\n",
       "        [11, 11, 11, ..., 11, 11, 11],\n",
       "        ...,\n",
       "        [11, 11, 11, ..., 11, 11, 11],\n",
       "        [11, 11, 11, ..., 11, 11, 11],\n",
       "        [11, 11, 11, ..., 11, 11, 11]],\n",
       "\n",
       "       [[11, 11, 11, ..., 11, 11, 11],\n",
       "        [11, 11, 11, ..., 11, 11, 11],\n",
       "        [11, 11, 11, ..., 11, 11, 11],\n",
       "        ...,\n",
       "        [11, 11, 11, ..., 11, 11, 11],\n",
       "        [11, 11, 11, ..., 11, 11, 11],\n",
       "        [11, 11, 11, ..., 11, 11, 11]],\n",
       "\n",
       "       [[11, 11, 11, ..., 11, 11, 11],\n",
       "        [11, 11, 11, ..., 11, 11, 11],\n",
       "        [11, 11, 11, ..., 11, 11, 11],\n",
       "        ...,\n",
       "        [11, 11, 11, ..., 11, 11, 11],\n",
       "        [11, 11, 11, ..., 11, 11, 11],\n",
       "        [11, 11, 11, ..., 11, 11, 11]]])"
      ]
     },
     "execution_count": 708,
     "metadata": {},
     "output_type": "execute_result"
    }
   ],
   "source": [
    "# colors_downpcd = np.round((color*255.0)).astype(np.uint8)\n",
    "# mapped_labels = [labels[tuple(vec)] for vec in colors_downpcd]\n",
    "mapped_labels = np.asarray([labels_rewritten[tuple(vec)] for vec in rr])\n",
    "mapped_labels.reshape(64, 64, 16)"
   ]
  },
  {
   "cell_type": "code",
   "execution_count": 709,
   "metadata": {},
   "outputs": [],
   "source": [
    "np.save(\"../../voxel_data/voxel_semantic_400\", mapped_labels)"
   ]
  },
  {
   "cell_type": "code",
   "execution_count": 710,
   "metadata": {},
   "outputs": [
    {
     "data": {
      "text/plain": [
       "array([ 0,  1,  2,  3,  4,  5,  6,  7,  8,  9, 10, 11])"
      ]
     },
     "execution_count": 710,
     "metadata": {},
     "output_type": "execute_result"
    }
   ],
   "source": [
    "np.unique(mapped_labels)"
   ]
  },
  {
   "cell_type": "code",
   "execution_count": 711,
   "metadata": {},
   "outputs": [],
   "source": [
    "colors_mapped = []\n",
    "for color in mapped_labels:\n",
    "    colors_mapped.append(labels_new[color])"
   ]
  },
  {
   "cell_type": "code",
   "execution_count": 712,
   "metadata": {},
   "outputs": [
    {
     "data": {
      "text/plain": [
       "array([[  0,   0, 142],\n",
       "       [ 70,  70,  70],\n",
       "       [ 70, 130, 180],\n",
       "       [102, 102, 156],\n",
       "       [107, 142,  35],\n",
       "       [128,  64, 128],\n",
       "       [152, 251, 152],\n",
       "       [153, 153, 153],\n",
       "       [190, 153, 153],\n",
       "       [220,  20,  60],\n",
       "       [220, 220,   0],\n",
       "       [244,  35, 232]])"
      ]
     },
     "execution_count": 712,
     "metadata": {},
     "output_type": "execute_result"
    }
   ],
   "source": [
    "np.unique(np.asarray(colors_mapped), axis=0)"
   ]
  },
  {
   "cell_type": "code",
   "execution_count": 713,
   "metadata": {},
   "outputs": [
    {
     "data": {
      "application/vnd.jupyter.widget-view+json": {
       "model_id": "25a18c53a7c44bbb91a45111a8dfb7d5",
       "version_major": 2,
       "version_minor": 0
      },
      "text/plain": [
       "Renderer(camera=PerspectiveCamera(aspect=1.6, fov=90.0, position=(51.39244079589844, 133.04007720947266, 26.74…"
      ]
     },
     "metadata": {},
     "output_type": "display_data"
    },
    {
     "data": {
      "application/vnd.jupyter.widget-view+json": {
       "model_id": "0a4658ddf40a46bca5f97ec251852711",
       "version_major": 2,
       "version_minor": 0
      },
      "text/plain": [
       "Renderer(camera=PerspectiveCamera(aspect=1.6, fov=90.0, position=(74.32758331298828, 190.23630905151367, 37.13…"
      ]
     },
     "metadata": {},
     "output_type": "display_data"
    }
   ],
   "source": [
    "voxelgrid.plot(d=3, mode=\"binary\", cmap=\"Oranges\")\n",
    "voxelgrid_128.plot(d=3, mode=\"binary\", cmap=\"Oranges\")"
   ]
  },
  {
   "cell_type": "code",
   "execution_count": 714,
   "metadata": {},
   "outputs": [],
   "source": [
    "npy_color = np.asarray(colors_mapped).reshape(64, 64, 16, 3)\n",
    "color_feat1 = npy_color[voxel]"
   ]
  },
  {
   "cell_type": "code",
   "execution_count": 715,
   "metadata": {},
   "outputs": [
    {
     "data": {
      "text/plain": [
       "(6267, 3)"
      ]
     },
     "execution_count": 715,
     "metadata": {},
     "output_type": "execute_result"
    }
   ],
   "source": [
    "color_feat1.shape"
   ]
  },
  {
   "cell_type": "code",
   "execution_count": 717,
   "metadata": {},
   "outputs": [
    {
     "data": {
      "application/vnd.jupyter.widget-view+json": {
       "model_id": "7225f2f9d9064a329eb0b90c9f027af1",
       "version_major": 2,
       "version_minor": 0
      },
      "text/plain": [
       "Renderer(camera=PerspectiveCamera(aspect=1.6, fov=90.0, position=(51.39244079589844, 133.04007720947266, 26.74…"
      ]
     },
     "metadata": {},
     "output_type": "display_data"
    }
   ],
   "source": [
    "sys.path.insert(0,'/home/shrisha/masters/WS-20/AVG/data/pyntcloud')\n",
    "from pyntcloud import *\n",
    "\n",
    "# color\n",
    "feat = voxelgrid.get_feature_vector('binary')\n",
    "clr = (np.asarray(color_feat1) / 255).astype(np.float32)\n",
    "scaled_shape = np.asarray(voxelgrid.shape) / min(voxelgrid.shape)\n",
    "voxel_centers = (np.argwhere(feat) * scaled_shape).astype(np.float32)\n",
    "plot.voxelgrid.plot_voxelgrid_with_pythreejs(voxel_centers, clr, width=800, height=500)\n",
    "# voxel_centers_gt = (np.argwhere(gt) * scaled_shape).astype(np.float32)\n",
    "# plot.voxelgrid.plot_voxelgrid_with_pythreejs(voxel_centers_gt, voxel_colors_gt, width=800, height=500)\n"
   ]
  },
  {
   "cell_type": "code",
   "execution_count": null,
   "metadata": {},
   "outputs": [],
   "source": []
  },
  {
   "cell_type": "code",
   "execution_count": null,
   "metadata": {},
   "outputs": [],
   "source": []
  },
  {
   "cell_type": "code",
   "execution_count": null,
   "metadata": {},
   "outputs": [],
   "source": []
  }
 ],
 "metadata": {
  "kernelspec": {
   "display_name": "Python 3",
   "language": "python",
   "name": "python3"
  },
  "language_info": {
   "codemirror_mode": {
    "name": "ipython",
    "version": 3
   },
   "file_extension": ".py",
   "mimetype": "text/x-python",
   "name": "python",
   "nbconvert_exporter": "python",
   "pygments_lexer": "ipython3",
   "version": "3.6.9"
  }
 },
 "nbformat": 4,
 "nbformat_minor": 4
}
