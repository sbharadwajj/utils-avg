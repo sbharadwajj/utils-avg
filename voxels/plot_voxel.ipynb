{
 "cells": [
  {
   "cell_type": "code",
   "execution_count": 1,
   "metadata": {},
   "outputs": [],
   "source": [
    "import open3d as o3d \n",
    "import numpy as np\n",
    "import matplotlib.pyplot as plt\n",
    "%matplotlib inline\n",
    "import os\n",
    "import struct\n",
    "import sys\n",
    "import pandas as pd\n",
    "\n",
    "from mpl_toolkits.mplot3d import Axes3D \n",
    "from matplotlib import cm\n",
    "from pyntcloud import PyntCloud"
   ]
  },
  {
   "cell_type": "code",
   "execution_count": 2,
   "metadata": {},
   "outputs": [],
   "source": [
    "input_folder = \"../../voxel_data/single/\"\n",
    "f = \"400_cropped.ply\"\n",
    "x, y, z = 64, 64, 16"
   ]
  },
  {
   "cell_type": "code",
   "execution_count": 3,
   "metadata": {},
   "outputs": [],
   "source": [
    "pcd = o3d.io.read_point_cloud(os.path.join(input_folder, f))\n",
    "downpcd = pcd.voxel_down_sample(voxel_size=0.4)\n",
    "color = np.asarray(downpcd.colors)\n",
    "cloud = PyntCloud.from_instance(\"open3d\", downpcd)\n",
    "voxelgrid_id = cloud.add_structure(\"voxelgrid\", n_x=x, n_y=y, n_z=z, regular_bounding_box=False)\n",
    "voxelgrid = cloud.structures[voxelgrid_id]\n",
    "\n",
    "x_cords = voxelgrid.voxel_x\n",
    "y_cords = voxelgrid.voxel_y\n",
    "z_cords = voxelgrid.voxel_z\n",
    "# import pdb;pdb.set_trace()\n",
    "voxel = np.zeros((x, y, z)).astype(np.bool)\n",
    "\n",
    "for x, y, z in zip(x_cords, y_cords, z_cords):\n",
    "    voxel[x][y][z] = True\n",
    "# voxels, voxelgrid, pcd_new = voxelize(pcd, 64, 64, 16)"
   ]
  },
  {
   "cell_type": "code",
   "execution_count": 4,
   "metadata": {},
   "outputs": [
    {
     "data": {
      "application/vnd.jupyter.widget-view+json": {
       "model_id": "3928ab8614f742d78aab8d9bc48d3f61",
       "version_major": 2,
       "version_minor": 0
      },
      "text/plain": [
       "Renderer(camera=PerspectiveCamera(aspect=1.6, fov=90.0, position=(51.27242660522461, 132.92689514160156, 26.76…"
      ]
     },
     "metadata": {},
     "output_type": "display_data"
    }
   ],
   "source": [
    "voxelgrid.plot(d=3, mode=\"binary\", cmap=\"Oranges\")"
   ]
  },
  {
   "cell_type": "code",
   "execution_count": 104,
   "metadata": {},
   "outputs": [
    {
     "data": {
      "text/plain": [
       "(61786, 3)"
      ]
     },
     "execution_count": 104,
     "metadata": {},
     "output_type": "execute_result"
    }
   ],
   "source": [
    "voxelgrid.colors.shape"
   ]
  },
  {
   "cell_type": "code",
   "execution_count": 8,
   "metadata": {},
   "outputs": [],
   "source": [
    "np.save(\"../../voxel_data/voxel_cropped_400\", voxel)"
   ]
  },
  {
   "cell_type": "code",
   "execution_count": 11,
   "metadata": {},
   "outputs": [
    {
     "data": {
      "text/plain": [
       "(64, 64, 16)"
      ]
     },
     "execution_count": 11,
     "metadata": {},
     "output_type": "execute_result"
    }
   ],
   "source": [
    "# test\n",
    "test_npy = np.load(\"../../voxel_data/voxel_cropped_400.npy\")\n"
   ]
  },
  {
   "cell_type": "code",
   "execution_count": null,
   "metadata": {},
   "outputs": [],
   "source": []
  }
 ],
 "metadata": {
  "kernelspec": {
   "display_name": "Python 3",
   "language": "python",
   "name": "python3"
  },
  "language_info": {
   "codemirror_mode": {
    "name": "ipython",
    "version": 3
   },
   "file_extension": ".py",
   "mimetype": "text/x-python",
   "name": "python",
   "nbconvert_exporter": "python",
   "pygments_lexer": "ipython3",
   "version": "3.6.9"
  }
 },
 "nbformat": 4,
 "nbformat_minor": 4
}
