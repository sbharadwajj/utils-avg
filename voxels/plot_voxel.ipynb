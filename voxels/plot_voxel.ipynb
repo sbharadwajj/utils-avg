{
 "cells": [
  {
   "cell_type": "code",
   "execution_count": 2,
   "metadata": {},
   "outputs": [],
   "source": [
    "import open3d as o3d \n",
    "import numpy as np\n",
    "import matplotlib.pyplot as plt\n",
    "%matplotlib inline\n",
    "import os\n",
    "import struct\n",
    "import sys\n",
    "import pandas as pd\n",
    "\n",
    "from mpl_toolkits.mplot3d import Axes3D \n",
    "from matplotlib import cm\n",
    "from pyntcloud import PyntCloud"
   ]
  },
  {
   "cell_type": "code",
   "execution_count": 26,
   "metadata": {},
   "outputs": [],
   "source": [
    "input_folder = \"../../voxel_data/single/\"\n",
    "f = \"400_cropped.ply\"\n",
    "x, y, z = 64, 64, 16"
   ]
  },
  {
   "cell_type": "code",
   "execution_count": 27,
   "metadata": {},
   "outputs": [],
   "source": [
    "pcd = o3d.io.read_point_cloud(os.path.join(input_folder, f))\n",
    "downpcd = pcd.voxel_down_sample(voxel_size=0.4)\n",
    "color = np.asarray(downpcd.colors)\n",
    "cloud = PyntCloud.from_instance(\"open3d\", downpcd)\n",
    "voxelgrid_id = cloud.add_structure(\"voxelgrid\", n_x=x, n_y=y, n_z=z, regular_bounding_box=False)\n",
    "voxelgrid = cloud.structures[voxelgrid_id]\n",
    "\n",
    "x_cords = voxelgrid.voxel_x\n",
    "y_cords = voxelgrid.voxel_y\n",
    "z_cords = voxelgrid.voxel_z\n",
    "# import pdb;pdb.set_trace()\n",
    "voxel = np.zeros((x, y, z)).astype(np.bool)\n",
    "\n",
    "for x, y, z in zip(x_cords, y_cords, z_cords):\n",
    "    voxel[x][y][z] = True\n",
    "# voxels, voxelgrid, pcd_new = voxelize(pcd, 64, 64, 16)\n",
    "\n",
    "voxelgrid_id_128 = cloud.add_structure(\"voxelgrid\", n_x=128, n_y=128, n_z=16, regular_bounding_box=False)\n",
    "voxelgrid_128 = cloud.structures[voxelgrid_id_128]"
   ]
  },
  {
   "cell_type": "code",
   "execution_count": 28,
   "metadata": {},
   "outputs": [
    {
     "data": {
      "application/vnd.jupyter.widget-view+json": {
       "model_id": "3378412716864a4480abc67e58504363",
       "version_major": 2,
       "version_minor": 0
      },
      "text/plain": [
       "Renderer(camera=PerspectiveCamera(aspect=1.6, fov=90.0, position=(51.27242660522461, 132.92689514160156, 26.76…"
      ]
     },
     "metadata": {},
     "output_type": "display_data"
    },
    {
     "data": {
      "application/vnd.jupyter.widget-view+json": {
       "model_id": "c355a2ceff1c4d91a4174439e42762f9",
       "version_major": 2,
       "version_minor": 0
      },
      "text/plain": [
       "Renderer(camera=PerspectiveCamera(aspect=1.6, fov=90.0, position=(74.13211059570312, 190.23076248168945, 37.22…"
      ]
     },
     "metadata": {},
     "output_type": "display_data"
    }
   ],
   "source": [
    "voxelgrid.plot(d=3, mode=\"binary\", cmap=\"Oranges\")\n",
    "voxelgrid_128.plot(d=3, mode=\"binary\", cmap=\"Oranges\")"
   ]
  },
  {
   "cell_type": "code",
   "execution_count": 6,
   "metadata": {},
   "outputs": [],
   "source": [
    "feat = voxelgrid.get_feature_vector('binary')"
   ]
  },
  {
   "cell_type": "code",
   "execution_count": 8,
   "metadata": {},
   "outputs": [
    {
     "data": {
      "text/plain": [
       "array([1.46257542, 1.4125462 , 1.        ])"
      ]
     },
     "execution_count": 8,
     "metadata": {},
     "output_type": "execute_result"
    }
   ],
   "source": [
    "scaled_shape = np.asarray(voxelgrid.shape) / min(voxelgrid.shape)\n",
    "scaled_shape"
   ]
  },
  {
   "cell_type": "code",
   "execution_count": 7,
   "metadata": {},
   "outputs": [],
   "source": [
    "np.save(\"../../voxel_data/voxel_cropped_400_128\", voxel)"
   ]
  },
  {
   "cell_type": "code",
   "execution_count": 10,
   "metadata": {},
   "outputs": [],
   "source": [
    "# test\n",
    "test_npy = np.load(\"../../voxel_data/400-data-new.npz\")\n",
    "gt = test_npy['gt'][0]\n",
    "pred = test_npy['pred'][0]\n",
    "\n",
    "# binary mode\n",
    "pred[pred > 0.5] = 1\n",
    "pred[pred < 0.5] = 0\n",
    "\n",
    "x, y, z = pred.shape\n",
    "n_size = pred.flatten().shape[0]"
   ]
  },
  {
   "cell_type": "code",
   "execution_count": 13,
   "metadata": {},
   "outputs": [
    {
     "data": {
      "application/vnd.jupyter.widget-view+json": {
       "model_id": "dde3c864b2124d5fb65459c056612c3b",
       "version_major": 2,
       "version_minor": 0
      },
      "text/plain": [
       "Renderer(camera=PerspectiveCamera(aspect=1.6, fov=90.0, position=(50.4239387512207, 133.01897811889648, 24.900…"
      ]
     },
     "metadata": {},
     "output_type": "display_data"
    },
    {
     "data": {
      "application/vnd.jupyter.widget-view+json": {
       "model_id": "1d9aa52f76b1436ab0d8685279ef0a60",
       "version_major": 2,
       "version_minor": 0
      },
      "text/plain": [
       "Renderer(camera=PerspectiveCamera(aspect=1.6, fov=90.0, position=(51.27242660522461, 132.92689514160156, 26.76…"
      ]
     },
     "metadata": {},
     "output_type": "display_data"
    }
   ],
   "source": [
    "sys.path.insert(0,'/home/shrisha/masters/WS-20/AVG/data/pyntcloud')\n",
    "from pyntcloud import *\n",
    "\n",
    "# color\n",
    "# voxel_colors = np.full((n_size, 3), (0,0,1), dtype=np.int)\n",
    "voxel_colors = np.full((n_size, 3), (0, 0, 1), dtype=np.float)\n",
    "voxel_colors_gt = np.full((n_size, 3), (0, 1, 1), dtype=np.float)\n",
    "# voxel_colors = color\n",
    "voxel_centers = (np.argwhere(pred) * scaled_shape).astype(np.float32)\n",
    "plot.voxelgrid.plot_voxelgrid_with_pythreejs(voxel_centers, voxel_colors, width=800, height=500)\n",
    "voxel_centers_gt = (np.argwhere(gt) * scaled_shape).astype(np.float32)\n",
    "plot.voxelgrid.plot_voxelgrid_with_pythreejs(voxel_centers_gt, voxel_colors_gt, width=800, height=500)\n",
    "\n"
   ]
  },
  {
   "cell_type": "code",
   "execution_count": null,
   "metadata": {},
   "outputs": [],
   "source": []
  },
  {
   "cell_type": "code",
   "execution_count": null,
   "metadata": {},
   "outputs": [],
   "source": []
  },
  {
   "cell_type": "code",
   "execution_count": null,
   "metadata": {},
   "outputs": [],
   "source": []
  }
 ],
 "metadata": {
  "kernelspec": {
   "display_name": "Python 3",
   "language": "python",
   "name": "python3"
  },
  "language_info": {
   "codemirror_mode": {
    "name": "ipython",
    "version": 3
   },
   "file_extension": ".py",
   "mimetype": "text/x-python",
   "name": "python",
   "nbconvert_exporter": "python",
   "pygments_lexer": "ipython3",
   "version": "3.6.9"
  }
 },
 "nbformat": 4,
 "nbformat_minor": 4
}
