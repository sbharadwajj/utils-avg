{
 "cells": [
  {
   "cell_type": "code",
   "execution_count": 102,
   "metadata": {},
   "outputs": [],
   "source": [
    "import open3d as o3d \n",
    "import numpy as np\n",
    "import matplotlib.pyplot as plt\n",
    "%matplotlib inline\n",
    "import os\n",
    "import struct\n",
    "import sys\n",
    "import pandas as pd\n",
    "\n",
    "from mpl_toolkits.mplot3d import Axes3D \n",
    "from matplotlib import cm\n",
    "from pyntcloud import PyntCloud\n",
    "\n",
    "sys.path.insert(0,'/home/shrisha/masters/WS-20/AVG/data/pyntcloud')\n",
    "from pyntcloud import *"
   ]
  },
  {
   "cell_type": "code",
   "execution_count": 108,
   "metadata": {},
   "outputs": [],
   "source": [
    "predictions_path = \"/home/shrisha/masters/WS-20/AVG/data/voxel_data/train_data/\"\n",
    "counter = 200\n",
    "cnt = 0"
   ]
  },
  {
   "cell_type": "code",
   "execution_count": 112,
   "metadata": {},
   "outputs": [
    {
     "data": {
      "application/vnd.jupyter.widget-view+json": {
       "model_id": "e8507920e9e444b3a853ba5a8dda816f",
       "version_major": 2,
       "version_minor": 0
      },
      "text/plain": [
       "Renderer(camera=PerspectiveCamera(aspect=1.6, fov=90.0, position=(48.72001647949219, 130.83645248413086, 26.37…"
      ]
     },
     "metadata": {},
     "output_type": "display_data"
    },
    {
     "data": {
      "application/vnd.jupyter.widget-view+json": {
       "model_id": "a612ac17cc0641ecb81ae9eed2e7a26d",
       "version_major": 2,
       "version_minor": 0
      },
      "text/plain": [
       "Renderer(camera=PerspectiveCamera(aspect=1.6, fov=90.0, position=(46.071128845214844, 133.48561477661133, 30.0…"
      ]
     },
     "metadata": {},
     "output_type": "display_data"
    },
    {
     "data": {
      "application/vnd.jupyter.widget-view+json": {
       "model_id": "f0b9a87f7a0e4f32a7d6d315eb646b06",
       "version_major": 2,
       "version_minor": 0
      },
      "text/plain": [
       "Renderer(camera=PerspectiveCamera(aspect=1.6, fov=90.0, position=(47.5845832824707, 134.79714965820312, 27.369…"
      ]
     },
     "metadata": {},
     "output_type": "display_data"
    },
    {
     "data": {
      "application/vnd.jupyter.widget-view+json": {
       "model_id": "656a70c7218f49c19996a927a0c11ab8",
       "version_major": 2,
       "version_minor": 0
      },
      "text/plain": [
       "Renderer(camera=PerspectiveCamera(aspect=1.6, fov=90.0, position=(46.071128845214844, 133.48561477661133, 30.0…"
      ]
     },
     "metadata": {},
     "output_type": "display_data"
    },
    {
     "data": {
      "application/vnd.jupyter.widget-view+json": {
       "model_id": "84695c2f8cd0423a823744e68d0924c9",
       "version_major": 2,
       "version_minor": 0
      },
      "text/plain": [
       "Renderer(camera=PerspectiveCamera(aspect=1.6, fov=90.0, position=(48.03983688354492, 130.0934295654297, 26.819…"
      ]
     },
     "metadata": {},
     "output_type": "display_data"
    },
    {
     "data": {
      "application/vnd.jupyter.widget-view+json": {
       "model_id": "f9c490fe9152472f9428787abece8a86",
       "version_major": 2,
       "version_minor": 0
      },
      "text/plain": [
       "Renderer(camera=PerspectiveCamera(aspect=1.6, fov=90.0, position=(46.071128845214844, 133.48561477661133, 30.0…"
      ]
     },
     "metadata": {},
     "output_type": "display_data"
    },
    {
     "data": {
      "application/vnd.jupyter.widget-view+json": {
       "model_id": "26454697c1de4de19bb9480dd709cba0",
       "version_major": 2,
       "version_minor": 0
      },
      "text/plain": [
       "Renderer(camera=PerspectiveCamera(aspect=1.6, fov=90.0, position=(47.01274490356445, 132.89130401611328, 26.53…"
      ]
     },
     "metadata": {},
     "output_type": "display_data"
    },
    {
     "data": {
      "application/vnd.jupyter.widget-view+json": {
       "model_id": "6d6e9d2980ab4a5d9a2f0009b33885f9",
       "version_major": 2,
       "version_minor": 0
      },
      "text/plain": [
       "Renderer(camera=PerspectiveCamera(aspect=1.6, fov=90.0, position=(46.071128845214844, 133.48561477661133, 30.0…"
      ]
     },
     "metadata": {},
     "output_type": "display_data"
    }
   ],
   "source": [
    "for npz in os.listdir(predictions_path):\n",
    "    path = os.path.join(predictions_path, npz)\n",
    "    batch = np.load(path)\n",
    "    gt = batch['gt'][0]\n",
    "    pred = batch['pred'][0]\n",
    "    inp = batch['inp'][0]\n",
    "    pred[pred > 0.5] = 1\n",
    "    pred[pred < 0.5] = 0\n",
    "    \n",
    "    n_size = pred.flatten().shape[0]\n",
    "    voxel_colors = np.full((n_size, 3), (0, 0, 1), dtype=np.float)\n",
    "    voxel_colors_gt = np.full((n_size, 3), (0, 1, 1), dtype=np.float)\n",
    "    \n",
    "    scaled_shape = np.array([1.46257542, 1.4125462 , 1.])\n",
    "    voxel_centers_gt = (np.argwhere(gt) * scaled_shape).astype(np.float32)\n",
    "    voxel_centers_pred = (np.argwhere(pred) * scaled_shape).astype(np.float32)\n",
    "    try:\n",
    "        plot.voxelgrid.plot_voxelgrid_with_pythreejs(voxel_centers_gt, voxel_colors_gt, width=800, height=500)\n",
    "        plot.voxelgrid.plot_voxelgrid_with_pythreejs(voxel_centers_pred, voxel_colors, width=800, height=500)\n",
    "    except:\n",
    "        pass\n",
    "    cnt+=1\n",
    "    if cnt > counter:\n",
    "        break\n",
    "    "
   ]
  },
  {
   "cell_type": "code",
   "execution_count": 95,
   "metadata": {},
   "outputs": [
    {
     "data": {
      "text/plain": [
       "(64, 64, 16)"
      ]
     },
     "execution_count": 95,
     "metadata": {},
     "output_type": "execute_result"
    }
   ],
   "source": [
    "pred.shape"
   ]
  },
  {
   "cell_type": "code",
   "execution_count": 60,
   "metadata": {},
   "outputs": [
    {
     "data": {
      "text/plain": [
       "False"
      ]
     },
     "execution_count": 60,
     "metadata": {},
     "output_type": "execute_result"
    }
   ],
   "source": [
    "0.4 > 0.4787745"
   ]
  },
  {
   "cell_type": "code",
   "execution_count": null,
   "metadata": {},
   "outputs": [],
   "source": []
  }
 ],
 "metadata": {
  "kernelspec": {
   "display_name": "Python 3",
   "language": "python",
   "name": "python3"
  },
  "language_info": {
   "codemirror_mode": {
    "name": "ipython",
    "version": 3
   },
   "file_extension": ".py",
   "mimetype": "text/x-python",
   "name": "python",
   "nbconvert_exporter": "python",
   "pygments_lexer": "ipython3",
   "version": "3.6.9"
  }
 },
 "nbformat": 4,
 "nbformat_minor": 4
}
