{
 "cells": [
  {
   "cell_type": "code",
   "execution_count": 1,
   "metadata": {},
   "outputs": [],
   "source": [
    "import open3d as o3d \n",
    "import numpy as np\n",
    "import matplotlib.pyplot as plt\n",
    "%matplotlib inline\n",
    "import os\n",
    "import struct\n",
    "import sys\n",
    "import pandas as pd\n",
    "\n",
    "from mpl_toolkits.mplot3d import Axes3D \n",
    "from matplotlib import cm\n",
    "from pyntcloud import PyntCloud"
   ]
  },
  {
   "cell_type": "code",
   "execution_count": 2,
   "metadata": {},
   "outputs": [],
   "source": [
    "input_folder = \"../../voxel_data/single/\"\n",
    "f = \"400_cropped.ply\"\n",
    "x, y, z = 64, 64, 16"
   ]
  },
  {
   "cell_type": "code",
   "execution_count": 9,
   "metadata": {},
   "outputs": [
    {
     "ename": "IndexError",
     "evalue": "index 63 is out of bounds for axis 0 with size 9",
     "output_type": "error",
     "traceback": [
      "\u001b[0;31m---------------------------------------------------------------------------\u001b[0m",
      "\u001b[0;31mIndexError\u001b[0m                                Traceback (most recent call last)",
      "\u001b[0;32m<ipython-input-9-d6d7fdc22693>\u001b[0m in \u001b[0;36m<module>\u001b[0;34m\u001b[0m\n\u001b[1;32m     13\u001b[0m \u001b[0;34m\u001b[0m\u001b[0m\n\u001b[1;32m     14\u001b[0m \u001b[0;32mfor\u001b[0m \u001b[0mx\u001b[0m\u001b[0;34m,\u001b[0m \u001b[0my\u001b[0m\u001b[0;34m,\u001b[0m \u001b[0mz\u001b[0m \u001b[0;32min\u001b[0m \u001b[0mzip\u001b[0m\u001b[0;34m(\u001b[0m\u001b[0mx_cords\u001b[0m\u001b[0;34m,\u001b[0m \u001b[0my_cords\u001b[0m\u001b[0;34m,\u001b[0m \u001b[0mz_cords\u001b[0m\u001b[0;34m)\u001b[0m\u001b[0;34m:\u001b[0m\u001b[0;34m\u001b[0m\u001b[0;34m\u001b[0m\u001b[0m\n\u001b[0;32m---> 15\u001b[0;31m     \u001b[0mvoxel\u001b[0m\u001b[0;34m[\u001b[0m\u001b[0mx\u001b[0m\u001b[0;34m]\u001b[0m\u001b[0;34m[\u001b[0m\u001b[0my\u001b[0m\u001b[0;34m]\u001b[0m\u001b[0;34m[\u001b[0m\u001b[0mz\u001b[0m\u001b[0;34m]\u001b[0m \u001b[0;34m=\u001b[0m \u001b[0;32mTrue\u001b[0m\u001b[0;34m\u001b[0m\u001b[0;34m\u001b[0m\u001b[0m\n\u001b[0m\u001b[1;32m     16\u001b[0m \u001b[0;31m# voxels, voxelgrid, pcd_new = voxelize(pcd, 64, 64, 16)\u001b[0m\u001b[0;34m\u001b[0m\u001b[0;34m\u001b[0m\u001b[0;34m\u001b[0m\u001b[0m\n\u001b[1;32m     17\u001b[0m \u001b[0;34m\u001b[0m\u001b[0m\n",
      "\u001b[0;31mIndexError\u001b[0m: index 63 is out of bounds for axis 0 with size 9"
     ]
    }
   ],
   "source": [
    "pcd = o3d.io.read_point_cloud(os.path.join(input_folder, f))\n",
    "downpcd = pcd.voxel_down_sample(voxel_size=0.4)\n",
    "color = np.asarray(downpcd.colors)\n",
    "cloud = PyntCloud.from_instance(\"open3d\", downpcd)\n",
    "voxelgrid_id = cloud.add_structure(\"voxelgrid\", n_x=x, n_y=y, n_z=z, size_x=1.5, size_y=1.5, size_z=1.0,regular_bounding_box=False)\n",
    "voxelgrid = cloud.structures[voxelgrid_id]\n",
    "\n",
    "x_cords = voxelgrid.voxel_x\n",
    "y_cords = voxelgrid.voxel_y\n",
    "z_cords = voxelgrid.voxel_z\n",
    "# import pdb;pdb.set_trace()\n",
    "voxel = np.zeros((x, y, z)).astype(np.bool)\n",
    "\n",
    "for x, y, z in zip(x_cords, y_cords, z_cords):\n",
    "    voxel[x][y][z] = True\n",
    "# voxels, voxelgrid, pcd_new = voxelize(pcd, 64, 64, 16)\n",
    "\n",
    "voxelgrid_id_128 = cloud.add_structure(\"voxelgrid\", n_x=128, n_y=128, n_z=16, regular_bounding_box=False)\n",
    "voxelgrid_128 = cloud.structures[voxelgrid_id_128]"
   ]
  },
  {
   "cell_type": "code",
   "execution_count": 4,
   "metadata": {},
   "outputs": [
    {
     "data": {
      "text/plain": [
       "(61786, 3)"
      ]
     },
     "execution_count": 4,
     "metadata": {},
     "output_type": "execute_result"
    }
   ],
   "source": [
    "voxelgrid.colors.shape"
   ]
  },
  {
   "cell_type": "code",
   "execution_count": 5,
   "metadata": {},
   "outputs": [
    {
     "data": {
      "application/vnd.jupyter.widget-view+json": {
       "model_id": "aec17a0455d9427f85ef94f911daaa50",
       "version_major": 2,
       "version_minor": 0
      },
      "text/plain": [
       "Renderer(camera=PerspectiveCamera(aspect=1.6, fov=90.0, position=(51.27242660522461, 132.92689514160156, 26.76…"
      ]
     },
     "metadata": {},
     "output_type": "display_data"
    },
    {
     "data": {
      "application/vnd.jupyter.widget-view+json": {
       "model_id": "49a9e4fb58cf40b88325db4988dd22ae",
       "version_major": 2,
       "version_minor": 0
      },
      "text/plain": [
       "Renderer(camera=PerspectiveCamera(aspect=1.6, fov=90.0, position=(74.13211059570312, 190.23076248168945, 37.22…"
      ]
     },
     "metadata": {},
     "output_type": "display_data"
    }
   ],
   "source": [
    "voxelgrid.plot(d=3, mode=\"binary\", cmap=\"Oranges\")\n",
    "voxelgrid_128.plot(d=3, mode=\"binary\", cmap=\"Oranges\")"
   ]
  },
  {
   "cell_type": "code",
   "execution_count": 10,
   "metadata": {},
   "outputs": [],
   "source": [
    "feat = voxelgrid.get_feature_vector('binary')"
   ]
  },
  {
   "cell_type": "code",
   "execution_count": 11,
   "metadata": {},
   "outputs": [
    {
     "data": {
      "text/plain": [
       "array([1.46257542, 1.4125462 , 1.        ])"
      ]
     },
     "execution_count": 11,
     "metadata": {},
     "output_type": "execute_result"
    }
   ],
   "source": [
    "scaled_shape = np.asarray(voxelgrid.shape) / min(voxelgrid.shape)\n",
    "scaled_shape"
   ]
  },
  {
   "cell_type": "code",
   "execution_count": 12,
   "metadata": {},
   "outputs": [],
   "source": [
    "np.save(\"../../voxel_data/voxel_cropped_400_128\", voxel)"
   ]
  },
  {
   "cell_type": "code",
   "execution_count": 13,
   "metadata": {},
   "outputs": [],
   "source": [
    "# test\n",
    "test_npy = np.load(\"../../voxel_data/400-data-new.npz\")\n",
    "gt = test_npy['gt'][0]\n",
    "pred = test_npy['pred'][0]\n",
    "\n",
    "# binary mode\n",
    "pred[pred > 0.5] = 1\n",
    "pred[pred < 0.5] = 0\n",
    "\n",
    "x, y, z = pred.shape\n",
    "n_size = pred.flatten().shape[0]"
   ]
  },
  {
   "cell_type": "code",
   "execution_count": 14,
   "metadata": {},
   "outputs": [
    {
     "name": "stderr",
     "output_type": "stream",
     "text": [
      "/home/shrisha/.virtualenvs/avg/lib/python3.6/site-packages/pythreejs/traits.py:203: UserWarning: 64-bit data types not supported for WebGL data, casting to 32-bit.\n",
      "  warnings.warn('64-bit data types not supported for WebGL '\n"
     ]
    },
    {
     "data": {
      "application/vnd.jupyter.widget-view+json": {
       "model_id": "b159a8bfffd84510872a805603c958e7",
       "version_major": 2,
       "version_minor": 0
      },
      "text/plain": [
       "Renderer(camera=PerspectiveCamera(aspect=1.6, fov=90.0, position=(50.4239387512207, 133.01897811889648, 24.900…"
      ]
     },
     "metadata": {},
     "output_type": "display_data"
    },
    {
     "data": {
      "application/vnd.jupyter.widget-view+json": {
       "model_id": "17f0ccd54525468aaa05951d83720917",
       "version_major": 2,
       "version_minor": 0
      },
      "text/plain": [
       "Renderer(camera=PerspectiveCamera(aspect=1.6, fov=90.0, position=(51.27242660522461, 132.92689514160156, 26.76…"
      ]
     },
     "metadata": {},
     "output_type": "display_data"
    }
   ],
   "source": [
    "sys.path.insert(0,'/home/shrisha/masters/WS-20/AVG/data/pyntcloud')\n",
    "from pyntcloud import *\n",
    "\n",
    "# color\n",
    "# voxel_colors = np.full((n_size, 3), (0,0,1), dtype=np.int)\n",
    "voxel_colors = np.full((n_size, 3), (0, 0, 1), dtype=np.float)\n",
    "voxel_colors_gt = np.full((n_size, 3), (0, 1, 1), dtype=np.float)\n",
    "# voxel_colors = color\n",
    "voxel_centers = (np.argwhere(pred) * scaled_shape).astype(np.float32)\n",
    "plot.voxelgrid.plot_voxelgrid_with_pythreejs(voxel_centers, voxel_colors, width=800, height=500)\n",
    "voxel_centers_gt = (np.argwhere(gt) * scaled_shape).astype(np.float32)\n",
    "plot.voxelgrid.plot_voxelgrid_with_pythreejs(voxel_centers_gt, voxel_colors_gt, width=800, height=500)\n",
    "\n"
   ]
  },
  {
   "cell_type": "code",
   "execution_count": null,
   "metadata": {},
   "outputs": [],
   "source": [
    "pred = test_npy['pred'][0]\n",
    "(pred.max() + pred.min())/2"
   ]
  },
  {
   "cell_type": "code",
   "execution_count": null,
   "metadata": {},
   "outputs": [],
   "source": []
  },
  {
   "cell_type": "code",
   "execution_count": null,
   "metadata": {},
   "outputs": [],
   "source": []
  }
 ],
 "metadata": {
  "kernelspec": {
   "display_name": "Python 3",
   "language": "python",
   "name": "python3"
  },
  "language_info": {
   "codemirror_mode": {
    "name": "ipython",
    "version": 3
   },
   "file_extension": ".py",
   "mimetype": "text/x-python",
   "name": "python",
   "nbconvert_exporter": "python",
   "pygments_lexer": "ipython3",
   "version": "3.6.9"
  }
 },
 "nbformat": 4,
 "nbformat_minor": 4
}
